{
 "cells": [
  {
   "cell_type": "code",
   "execution_count": 5,
   "metadata": {},
   "outputs": [],
   "source": [
    "import numpy as np\n",
    "import pandas as pd\n",
    "import math\n",
    "import time\n",
    "\n",
    "from sklearn.naive_bayes import GaussianNB\n",
    "from sklearn.metrics import accuracy_score\n",
    "from sklearn.model_selection import KFold\n"
   ]
  },
  {
   "cell_type": "code",
   "execution_count": 2,
   "metadata": {},
   "outputs": [
    {
     "ename": "NameError",
     "evalue": "name 'j' is not defined",
     "output_type": "error",
     "traceback": [
      "\u001b[1;31m---------------------------------------------------------------------------\u001b[0m",
      "\u001b[1;31mNameError\u001b[0m                                 Traceback (most recent call last)",
      "\u001b[1;32m<ipython-input-2-75f93f6a711a>\u001b[0m in \u001b[0;36m<module>\u001b[1;34m\u001b[0m\n\u001b[0;32m      1\u001b[0m \u001b[0mtrain\u001b[0m \u001b[1;33m=\u001b[0m \u001b[0mpd\u001b[0m\u001b[1;33m.\u001b[0m\u001b[0mread_csv\u001b[0m\u001b[1;33m(\u001b[0m\u001b[1;34m'datasb/train1.csv'\u001b[0m\u001b[1;33m)\u001b[0m\u001b[1;33m\u001b[0m\u001b[1;33m\u001b[0m\u001b[0m\n\u001b[1;32m----> 2\u001b[1;33m \u001b[0mtest\u001b[0m \u001b[1;33m=\u001b[0m \u001b[0mpd\u001b[0m\u001b[1;33m.\u001b[0m\u001b[0mread_csv\u001b[0m\u001b[1;33m(\u001b[0m\u001b[1;34m'datasb/test'\u001b[0m\u001b[1;33m+\u001b[0m\u001b[0mstr\u001b[0m\u001b[1;33m(\u001b[0m\u001b[0mj\u001b[0m\u001b[1;33m)\u001b[0m\u001b[1;33m+\u001b[0m\u001b[1;34m'.csv'\u001b[0m\u001b[1;33m,\u001b[0m\u001b[0mheader\u001b[0m\u001b[1;33m=\u001b[0m\u001b[1;36m0\u001b[0m\u001b[1;33m)\u001b[0m\u001b[1;33m\u001b[0m\u001b[1;33m\u001b[0m\u001b[0m\n\u001b[0m\u001b[0;32m      3\u001b[0m \u001b[0mtrain\u001b[0m\u001b[1;33m=\u001b[0m\u001b[0mtrain\u001b[0m\u001b[1;33m.\u001b[0m\u001b[0msample\u001b[0m\u001b[1;33m(\u001b[0m\u001b[0mfrac\u001b[0m\u001b[1;33m=\u001b[0m\u001b[1;36m1\u001b[0m\u001b[1;33m)\u001b[0m\u001b[1;33m.\u001b[0m\u001b[0mreset_index\u001b[0m\u001b[1;33m(\u001b[0m\u001b[0mdrop\u001b[0m\u001b[1;33m=\u001b[0m\u001b[1;32mTrue\u001b[0m\u001b[1;33m)\u001b[0m\u001b[1;33m\u001b[0m\u001b[1;33m\u001b[0m\u001b[0m\n\u001b[0;32m      4\u001b[0m \u001b[0mX_train\u001b[0m \u001b[1;33m=\u001b[0m \u001b[0mdatasets\u001b[0m\u001b[1;33m.\u001b[0m\u001b[0mloc\u001b[0m\u001b[1;33m[\u001b[0m\u001b[1;33m:\u001b[0m\u001b[1;33m,\u001b[0m\u001b[0mtrain\u001b[0m\u001b[1;33m.\u001b[0m\u001b[0mcolumns\u001b[0m \u001b[1;33m!=\u001b[0m \u001b[1;34m'calibrado'\u001b[0m\u001b[1;33m]\u001b[0m\u001b[1;33m\u001b[0m\u001b[1;33m\u001b[0m\u001b[0m\n\u001b[0;32m      5\u001b[0m \u001b[0mY_train\u001b[0m \u001b[1;33m=\u001b[0m \u001b[0mdatasets\u001b[0m\u001b[1;33m.\u001b[0m\u001b[0mY\u001b[0m\u001b[1;33m\u001b[0m\u001b[1;33m\u001b[0m\u001b[0m\n",
      "\u001b[1;31mNameError\u001b[0m: name 'j' is not defined"
     ]
    }
   ],
   "source": [
    "\n",
    "train = pd.read_csv('datasb/train1.csv')\n",
    "test = pd.read_csv('datasb/test'+str(j)+'.csv',header=0)\n",
    "train=train.sample(frac=1).reset_index(drop=True)\n",
    "X_train = datasets.loc[:,train.columns != 'calibrado']\n",
    "Y_train = datasets.Y\n",
    "classifier = GaussianNB()\n",
    "classifier.fit(X_train,Y_train)\n",
    "\n",
    "X_test = test.loc[:,test.columns != 'calibrado']\n",
    "Y_test = test.calibrado\n",
    "\n",
    "prediccionTest_ = classifier.predict(X_test)\n",
    "\n",
    "accuracyTest = accuracy_score(y_true = Y_test, y_pred = prediccionTest_,normalize = True)\n",
    "print(round(100*accuracyTest,2))"
   ]
  },
  {
   "cell_type": "code",
   "execution_count": 6,
   "metadata": {},
   "outputs": [
    {
     "name": "stdout",
     "output_type": "stream",
     "text": [
      "presición:  92.2 %\n",
      "presición:  92.2 %\n",
      "presición:  91.49 %\n",
      "presición:  90.0 %\n",
      "presición:  94.29 %\n",
      "presición:  90.0 %\n",
      "presición:  91.43 %\n",
      "presición:  91.43 %\n",
      "presición:  93.57 %\n",
      "presición:  92.86 %\n",
      "Tiempo establecido 76.2191 miliseconds\n",
      "Promedio:  91.94579533941236\n"
     ]
    }
   ],
   "source": [
    "classifier = GaussianNB()\n",
    "tic = time.perf_counter()\n",
    "promedio = 0\n",
    "for j in range(1,11):\n",
    "    \n",
    "    train = pd.read_csv('datasb/train'+str(j)+'.csv',header=0)\n",
    "    test = pd.read_csv('datasb/test'+str(j)+'.csv',header=0)\n",
    "    \n",
    "    X_train = train.loc[:,train.columns !='calibrado']\n",
    "    Y_train = train.calibrado\n",
    "    classifier.fit(X_train,Y_train)\n",
    "    \n",
    "    X_test = test.loc[:,test.columns != 'calibrado']\n",
    "    Y_test = test.calibrado\n",
    "    prediccionTest_ = classifier.predict(X_test)\n",
    "    accuracyTest = accuracy_score(y_true = Y_test, y_pred = prediccionTest_,normalize = True)\n",
    "    print(\"presición: \",round(100*accuracyTest,2),\"%\")\n",
    "    promedio = promedio + (100*accuracyTest)\n",
    "    \n",
    "toc = time.perf_counter()\n",
    "promedio = promedio/10\n",
    "print(f\"Tiempo establecido {(toc - tic) * 1000:0.4f} miliseconds\")\n",
    "print(\"Promedio: \",promedio)"
   ]
  },
  {
   "cell_type": "code",
   "execution_count": null,
   "metadata": {},
   "outputs": [],
   "source": []
  }
 ],
 "metadata": {
  "kernelspec": {
   "display_name": "Python 3",
   "language": "python",
   "name": "python3"
  },
  "language_info": {
   "codemirror_mode": {
    "name": "ipython",
    "version": 3
   },
   "file_extension": ".py",
   "mimetype": "text/x-python",
   "name": "python",
   "nbconvert_exporter": "python",
   "pygments_lexer": "ipython3",
   "version": "3.8.5"
  }
 },
 "nbformat": 4,
 "nbformat_minor": 4
}
