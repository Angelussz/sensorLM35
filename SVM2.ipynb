{
 "cells": [
  {
   "cell_type": "markdown",
   "metadata": {},
   "source": [
    "# SVM"
   ]
  },
  {
   "cell_type": "code",
   "execution_count": 1,
   "metadata": {},
   "outputs": [],
   "source": [
    "from sklearn.model_selection import KFold\n",
    "import pandas as pd\n",
    "import numpy as np\n",
    "import matplotlib.pyplot as plt\n",
    "import math\n",
    "from sklearn.svm import SVC\n",
    "from sklearn.metrics import accuracy_score\n",
    "import seaborn as sns"
   ]
  },
  {
   "cell_type": "markdown",
   "metadata": {},
   "source": [
    "# ------KFOLDS-----------"
   ]
  },
  {
   "cell_type": "code",
   "execution_count": null,
   "metadata": {},
   "outputs": [],
   "source": [
    "datos = pd.read_csv('svm.csv')\n",
    "df = pd.DataFrame(datos)\n",
    "\n",
    "X1 = df['X1']\n",
    "X2 = df['X2']\n",
    "\n",
    "kf = KFold(n_splits=10)\n",
    "\n",
    "i = 1\n",
    "for valx,valy in kf.split(X1):\n",
    "    df.iloc[valx].to_csv('train'+str(i)+\".csv\",index=False)\n",
    "    df.iloc[valy].to_csv('test'+str(i)+\".csv\",index=False)\n",
    "    i=i+1\n",
    "#     print(valx,valy)\n",
    "#     print(\"Entrenamiento:\\n\",df.iloc[valx])\n",
    "#     print(\"Prueba:\\n\",df.iloc[valy])\n"
   ]
  },
  {
   "cell_type": "markdown",
   "metadata": {},
   "source": [
    "# --------------------------"
   ]
  },
  {
   "cell_type": "code",
   "execution_count": 39,
   "metadata": {},
   "outputs": [
    {
     "name": "stdout",
     "output_type": "stream",
     "text": [
      "[1 1 0 0 0 0 0 1 0 1 1 0 0 1 1]\n",
      "La precision es:80.0%\n",
      "[1 1 1 1 1 1 0 1 0 1 1 0 0 0 0]\n",
      "La precision es:80.0%\n",
      "[0 0 0 1 1 0 0 1 0 0 0 1 1 0 1]\n",
      "La precision es:86.66666666666667%\n",
      "[0 0 0 1 1 1 1 0 0 1 0 1 1 1 0]\n",
      "La precision es:86.66666666666667%\n",
      "[1 1 1 0 1 0 0 1 1 1 0 0 0 0 1]\n",
      "La precision es:80.0%\n",
      "[1 0 1 1 1 0 1 1 0 0 0 1 0 0 0]\n",
      "La precision es:93.33333333333333%\n",
      "[1 0 0 0 1 0 1 1 0 1 0 0 1 1 0]\n",
      "La precision es:93.33333333333333%\n",
      "[0 1 1 0 0 0 0 0 1 0 1 0 0 0 0]\n",
      "La precision es:93.33333333333333%\n",
      "[1 0 1 1 1 1 0 1 0 1 0 0 1 0 1]\n",
      "La precision es:66.66666666666666%\n",
      "[1 1 0 1 0 0 0 0 0 1 1 0 1 0 0]\n",
      "La precision es:86.66666666666667%\n"
     ]
    }
   ],
   "source": [
    "svmtxt = open('SVM.txt','w')\n",
    "calcular = []\n",
    "SVM = SVC(kernel = 'linear',C=10)\n",
    "\n",
    "svmtxt.write(\"Angelo Aldo Perez Rodriguez\\n\")\n",
    "svmtxt.write(\"Algoritmo Support Vector Machine\\n\")\n",
    "\n",
    "for j in range(1,11):\n",
    "    train = pd.read_csv('train'+str(j)+'.csv',header=0)\n",
    "    test = pd.read_csv('test'+str(j)+'.csv',header=0)\n",
    "    X_train = train.loc[:,train.columns !='Y']\n",
    "    Y_train = train.Y\n",
    "    SVM.fit(X_train,Y_train)\n",
    "    \n",
    "    #train\n",
    "    x_min, x_max = train.X1.min() - .1, train.X1.max() + .1\n",
    "    y_min, y_max = train.X2.min() - .1, train.X2.max() + .1\n",
    "    h = .02\n",
    "    xx,yy = np.meshgrid(np.arange(x_min,x_max,h), np.arange(y_min,y_max,h))\n",
    "    Z = SVM.predict(np.c_[xx.ravel(),yy.ravel()])\n",
    "    Z = Z.reshape(xx.shape)\n",
    "    \n",
    "    #test\n",
    "    x_min, x_max = train.X1.min() - .1, train.X1.max() + .1\n",
    "    y_min, y_max = train.X2.min() - .1, train.X2.max() + .1\n",
    "    h = .02\n",
    "    xx,yy = np.meshgrid(np.arange(x_min,x_max,h), np.arange(y_min,y_max,h))\n",
    "    Z = SVM.predict(np.c_[xx.ravel(),yy.ravel()])\n",
    "    Z = Z.reshape(xx.shape)\n",
    "    \n",
    "    # ----------------\n",
    "    X_test = test.loc[:,test.columns  !='Y']\n",
    "    Y_test = test.Y\n",
    "    pred = SVM.predict(X_test)\n",
    "    print(pred)\n",
    "    accuracy = accuracy_score(\n",
    "            y_true = Y_test,\n",
    "            y_pred = pred,\n",
    "            normalize=True\n",
    "            )\n",
    "    print(\"La precision es:\"+ str((100*accuracy))+\"%\")\n",
    "    svmtxt.write(\"Tasa de clasificación del fold \"+str(j)+\" : \"+str((100*accuracy))+\"%\\n\")\n",
    "    calcular.append(accuracy*100)\n",
    "\n",
    "promedio = sum(calcular)/len(calcular)\n",
    "calcularnp = np.array(calcular)\n",
    "desviacion = math.sqrt(np.sum((calcularnp-promedio)**2)/len(calcular)-1)\n",
    "svmtxt.write(\"\\n\\n\")\n",
    "svmtxt.write(\"Tasa de clasificación promedio: \"+str(promedio)+\"%\\n\")\n",
    "svmtxt.write(\"Desviación estandar \"+str(desviacion)+\"\\n\")\n",
    "svmtxt.close()"
   ]
  }
 ],
 "metadata": {
  "kernelspec": {
   "display_name": "Python 3",
   "language": "python",
   "name": "python3"
  },
  "language_info": {
   "codemirror_mode": {
    "name": "ipython",
    "version": 3
   },
   "file_extension": ".py",
   "mimetype": "text/x-python",
   "name": "python",
   "nbconvert_exporter": "python",
   "pygments_lexer": "ipython3",
   "version": "3.8.5"
  }
 },
 "nbformat": 4,
 "nbformat_minor": 4
}
