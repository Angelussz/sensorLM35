{
 "cells": [
  {
   "cell_type": "code",
   "execution_count": 2,
   "metadata": {},
   "outputs": [],
   "source": [
    "from sklearn.svm import SVC\n",
    "import numpy as np\n",
    "import pandas as pd\n",
    "import matplotlib.pyplot as plt\n",
    "from sklearn.metrics import accuracy_score\n",
    "from sklearn.model_selection import KFold\n",
    "from matplotlib.colors import ListedColormap\n",
    "import math\n",
    "import time"
   ]
  },
  {
   "cell_type": "code",
   "execution_count": 4,
   "metadata": {},
   "outputs": [],
   "source": [
    "train = pd.read_csv('datasb/train1.csv',header=0)\n",
    "test = pd.read_csv('datasb/test1.csv',header=0)"
   ]
  },
  {
   "cell_type": "code",
   "execution_count": 5,
   "metadata": {},
   "outputs": [
    {
     "data": {
      "text/plain": [
       "SVC(C=0.5)"
      ]
     },
     "execution_count": 5,
     "metadata": {},
     "output_type": "execute_result"
    }
   ],
   "source": [
    "SVM = SVC(kernel = 'rbf',C=0.5)\n",
    "X_train = train.loc[:,train.columns != 'calibrado']\n",
    "Y_train = train.calibrado\n",
    "SVM.fit(X_train,Y_train)\n"
   ]
  },
  {
   "cell_type": "code",
   "execution_count": 6,
   "metadata": {},
   "outputs": [
    {
     "name": "stdout",
     "output_type": "stream",
     "text": [
      "[0 1 1 ... 0 1 0]\n",
      "La precision es:97.62282091917591%\n"
     ]
    }
   ],
   "source": [
    "pred = SVM.predict(X_train)\n",
    "print(pred)\n",
    "accuracy = accuracy_score(\n",
    "            y_true = Y_train,\n",
    "            y_pred = pred,\n",
    "            normalize=True\n",
    "            )\n",
    "print(\"La precision es:\"+ str((100*accuracy))+\"%\")"
   ]
  },
  {
   "cell_type": "code",
   "execution_count": 6,
   "metadata": {},
   "outputs": [
    {
     "name": "stdout",
     "output_type": "stream",
     "text": [
      "Precision:66.66666666666666%\n",
      "Precision:70.92198581560284%\n",
      "Precision:70.2127659574468%\n",
      "Precision:67.85714285714286%\n",
      "Precision:56.42857142857143%\n",
      "Precision:64.28571428571429%\n",
      "Precision:58.57142857142858%\n",
      "Precision:60.71428571428571%\n",
      "Precision:66.42857142857143%\n",
      "Precision:68.57142857142857%\n",
      "Tiempo establecido 2321.3374 miliseconds\n",
      "Promedio:  65.06585612968591\n"
     ]
    }
   ],
   "source": [
    "SVM = SVC(kernel = 'poly',C=0.5)\n",
    "promedio = 0\n",
    "tic = time.perf_counter()  \n",
    "for j in range(1,11):\n",
    "    train = pd.read_csv('datasb/train'+str(j)+'.csv',header=0)\n",
    "    test = pd.read_csv('datasb/test'+str(j)+'.csv',header=0)\n",
    "    X_train = train.loc[:,train.columns !='calibrado']\n",
    "    Y_train = train.calibrado\n",
    "    SVM.fit(X_train,Y_train)\n",
    "    \n",
    "    X_test = test.loc[:,test.columns  !='calibrado']\n",
    "    Y_test = test.calibrado\n",
    "    pred = SVM.predict(X_test)\n",
    "    #print(pred)\n",
    "    accuracy = accuracy_score(\n",
    "            y_true = Y_test,\n",
    "            y_pred = pred,\n",
    "            normalize=True\n",
    "            )\n",
    "    print(\"Precision:\"+ str((100*accuracy))+\"%\")\n",
    "    promedio = promedio+(accuracy*100)\n",
    "    #print(promedio)\n",
    "toc = time.perf_counter()\n",
    "print(f\"Tiempo establecido {(toc - tic) * 1000:0.4f} miliseconds\")\n",
    "Promedio = promedio/10\n",
    "\n",
    "print(\"Promedio: \",Promedio)"
   ]
  },
  {
   "cell_type": "code",
   "execution_count": 11,
   "metadata": {},
   "outputs": [
    {
     "name": "stdout",
     "output_type": "stream",
     "text": [
      "68\n",
      "73\n",
      "141\n",
      "0.48226950354609927\n",
      "0.5177304964539007\n"
     ]
    }
   ],
   "source": [
    "train_pr = pd.read_csv('datasb/train1.csv',header=0)\n",
    "test_pr = pd.read_csv('datasb/test1.csv',header=0)\n",
    "SVM = SVC(kernel = 'rbf',C=0.5)\n",
    "X_train = train_pr.loc[:,train_pr.columns != 'calibrado']\n",
    "Y_train = train_pr.calibrado\n",
    "SVM.fit(X_train,Y_train)\n",
    "\n",
    "X_test = test_pr.loc[:,test_pr.columns  !='calibrado']\n",
    "Y_test = test_pr.calibrado\n",
    "\n",
    "pred = SVM.predict(X_test)\n",
    "\n",
    "pred1 = list(pred)\n",
    "\n",
    "print(pred1.count(1))\n",
    "print(pred1.count(0))\n",
    "print (len(pred1))\n",
    "\n",
    "print(pred1.count(1)/len(pred1))\n",
    "print(pred1.count(0)/len(pred1))"
   ]
  },
  {
   "cell_type": "code",
   "execution_count": null,
   "metadata": {},
   "outputs": [],
   "source": []
  }
 ],
 "metadata": {
  "kernelspec": {
   "display_name": "Python 3",
   "language": "python",
   "name": "python3"
  },
  "language_info": {
   "codemirror_mode": {
    "name": "ipython",
    "version": 3
   },
   "file_extension": ".py",
   "mimetype": "text/x-python",
   "name": "python",
   "nbconvert_exporter": "python",
   "pygments_lexer": "ipython3",
   "version": "3.8.5"
  }
 },
 "nbformat": 4,
 "nbformat_minor": 4
}
