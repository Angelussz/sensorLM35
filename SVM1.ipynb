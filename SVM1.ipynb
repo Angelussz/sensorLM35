{
 "cells": [
  {
   "cell_type": "code",
   "execution_count": 10,
   "metadata": {},
   "outputs": [],
   "source": [
    "from sklearn.model_selection import KFold\n",
    "import pandas as pd\n",
    "import numpy as np\n",
    "import matplotlib.pyplot as plt\n",
    "import math\n",
    "from sklearn.svm import SVC\n",
    "from sklearn.metrics import accuracy_score\n",
    "import seaborn as sns"
   ]
  },
  {
   "cell_type": "code",
   "execution_count": 3,
   "metadata": {},
   "outputs": [],
   "source": [
    "datos = pd.read_csv('svm.csv')\n",
    "df = pd.DataFrame(datos)"
   ]
  },
  {
   "cell_type": "code",
   "execution_count": 9,
   "metadata": {},
   "outputs": [],
   "source": [
    "X1 = df['X1']\n",
    "X2 = df['X2']\n",
    "\n",
    "kf = KFold(n_splits=10)\n",
    "\n",
    "i = 1\n",
    "for valx,valy in kf.split(X1):\n",
    "    df.iloc[valx].to_csv('train'+str(i)+\".csv\",index=False)\n",
    "    df.iloc[valy].to_csv('test'+str(i)+\".csv\",index=False)\n",
    "    i=i+1\n",
    "#     print(valx,valy)\n",
    "#     print(\"Entrenamiento:\\n\",df.iloc[valx])\n",
    "#     print(\"Prueba:\\n\",df.iloc[valy])\n"
   ]
  },
  {
   "cell_type": "code",
   "execution_count": 11,
   "metadata": {},
   "outputs": [
    {
     "data": {
      "text/plain": [
       "<matplotlib.collections.PathCollection at 0x1b3c92a3310>"
      ]
     },
     "execution_count": 11,
     "metadata": {},
     "output_type": "execute_result"
    },
    {
     "data": {
      "image/png": "[encoded data removed]",
      "text/plain": [
       "<Figure size 432x288 with 1 Axes>"
      ]
     },
     "metadata": {
      "needs_background": "light"
     },
     "output_type": "display_data"
    }
   ],
   "source": [
    "train = pd.read_csv('train1.csv',header=0)\n",
    "plt.scatter(train.X1[train.Y== 0], train.X2[train.Y== 0],c='darkgreen',marker='^')\n",
    "plt.scatter(train.X1[train.Y== 1], train.X2[train.Y== 1],c='black',marker=',')"
   ]
  },
  {
   "cell_type": "code",
   "execution_count": 13,
   "metadata": {},
   "outputs": [
    {
     "name": "stdout",
     "output_type": "stream",
     "text": [
      "[[ 2.76712933 -3.03896142]]\n",
      "[-0.20313183]\n",
      "[ 0.37873132  1.29829681  1.6688969   0.29543954  0.04319149 -0.06749368\n",
      " -0.24118832  1.55869981 -1.20550101  0.91633534  0.73302149 -0.26614129\n",
      " -0.19177046 -1.30085243 -0.8971444  -0.88306471 -0.38052095 -1.12889994\n",
      "  0.45777281  1.80948361 -0.90529936 -0.69034182  0.03998509 -0.45984034\n",
      " -1.90962088 -1.73543816  0.53806837  0.27125255 -0.71208839 -0.13691596\n",
      " -0.20313183 -0.53915973 -0.18410358  0.64185264  1.67705187  0.40243022\n",
      "  0.36067924 -0.4408121  -0.23352144  1.27655024 -0.42993881  0.19960004\n",
      "  0.2282475   0.06396189 -0.40721608  0.16056737  0.11853849  0.96031656\n",
      " -0.99793245  0.65913874 -0.96656667 -1.1026929  -0.03117934  0.28456625\n",
      " -0.06798177 -0.49936109 -1.04686223 -0.99967461 -0.78917754 -0.07070009\n",
      "  0.51534563 -0.39780705 -0.11196298  0.99983731  0.10076432 -0.22487839\n",
      "  1.62665784  0.49729355 -1.06812071 -1.72951343 -0.63674139  0.57710103\n",
      " -0.27701457 -0.93568897 -0.65130916  1.43616519 -0.37187791 -0.29478875\n",
      " -0.93199448 -0.0566204  -1.7544664   0.11853849 -0.13001506 -0.23352144\n",
      "  0.21737422 -0.49838492 -1.00016269  0.11435592  0.58895048 -0.49664277\n",
      " -1.00462316  0.51088516  0.74633519 -0.22536648 -0.77237953 -0.56508888\n",
      " -0.44227635 -1.12172115 -0.21400511 -0.54383039  0.14105104 -1.50863117\n",
      " -1.52347684 -1.68873862 -1.43279608  1.58218853 -1.38832678 -0.05215992\n",
      " -0.05613231  1.00429778  0.01133762 -0.28886403  1.66840882 -0.6567458\n",
      " -0.12555459 -0.19351261 -0.26662938 -0.00399613 -0.33876997  0.70360804\n",
      " -0.05118376  0.63516194 -0.38323928  0.01726235 -0.19769518 -0.28614571\n",
      " -0.96336027 -0.47886859 -0.77412169 -0.09195857  0.26679208 -0.65130916\n",
      "  0.39650549 -1.35717118 -0.28886403]\n"
     ]
    }
   ],
   "source": [
    "SVM = SVC(kernel = 'linear',C=0.5)\n",
    "X_train = train.loc[:,train.columns !='Y']\n",
    "Y_train = train.Y\n",
    "SVM.fit(X_train,Y_train)\n",
    "print(SVM.coef_)\n",
    "print(SVM.intercept_)\n",
    "print(SVM.decision_function(X_train))"
   ]
  },
  {
   "cell_type": "code",
   "execution_count": 14,
   "metadata": {},
   "outputs": [
    {
     "data": {
      "text/plain": [
       "<matplotlib.collections.PathCollection at 0x1b3c964c9d0>"
      ]
     },
     "execution_count": 14,
     "metadata": {},
     "output_type": "execute_result"
    },
    {
     "data": {
      "image/png": "[encoded data removed]",
      "text/plain": [
       "<Figure size 432x288 with 1 Axes>"
      ]
     },
     "metadata": {
      "needs_background": "light"
     },
     "output_type": "display_data"
    }
   ],
   "source": [
    "x_min, x_max = train.X1.min() - .1, train.X1.max() + .1\n",
    "y_min, y_max = train.X2.min() - .1, train.X2.max() + .1\n",
    "h = .02\n",
    "\n",
    "xx,yy = np.meshgrid(np.arange(x_min,x_max,h), np.arange(y_min,y_max,h))\n",
    "Z = SVM.predict(np.c_[xx.ravel(),yy.ravel()])\n",
    "Z = Z.reshape(xx.shape)\n",
    "\n",
    "plt.figure()\n",
    "plt.pcolormesh(xx,yy,Z,cmap = plt.cm.Accent,shading='auto')\n",
    "\n",
    "plt.scatter(train.X1[train.Y== 0], train.X2[train.Y== 0],c='darkgreen',marker='^')\n",
    "plt.scatter(train.X1[train.Y== 1], train.X2[train.Y== 1],c='black',marker=',')"
   ]
  },
  {
   "cell_type": "code",
   "execution_count": 17,
   "metadata": {},
   "outputs": [
    {
     "name": "stdout",
     "output_type": "stream",
     "text": [
      "[1 1 1 1 1 0 0 1 0 1 1 0 0 0 0 0 0 0 1 1 0 0 1 0 0 0 1 1 0 0 0 0 0 1 1 1 1\n",
      " 0 0 1 0 1 1 1 0 1 1 1 0 1 0 0 0 1 0 0 0 0 0 0 1 0 0 1 1 0 1 1 0 0 0 1 0 0\n",
      " 0 1 0 0 0 0 0 1 0 0 1 0 0 1 1 0 0 1 1 0 0 0 0 0 0 0 1 0 0 0 0 1 0 0 0 1 1\n",
      " 0 1 0 0 0 0 0 0 1 0 1 0 1 0 0 0 0 0 0 1 0 1 0 0]\n",
      "La precision es:85.92592592592592%\n"
     ]
    }
   ],
   "source": [
    "pred = SVM.predict(X_train)\n",
    "print(pred)\n",
    "accuracy = accuracy_score(\n",
    "            y_true = Y_train,\n",
    "            y_pred = pred,\n",
    "            normalize=True\n",
    "            )\n",
    "print(\"La precision es:\"+ str((100*accuracy))+\"%\")"
   ]
  },
  {
   "cell_type": "code",
   "execution_count": 18,
   "metadata": {},
   "outputs": [
    {
     "data": {
      "text/plain": [
       "<matplotlib.collections.PathCollection at 0x1b3c96a3f10>"
      ]
     },
     "execution_count": 18,
     "metadata": {},
     "output_type": "execute_result"
    },
    {
     "data": {
      "image/png": "[encoded data removed]",
      "text/plain": [
       "<Figure size 432x288 with 1 Axes>"
      ]
     },
     "metadata": {
      "needs_background": "light"
     },
     "output_type": "display_data"
    }
   ],
   "source": [
    "test = pd.read_csv('test1.csv',header=0)\n",
    "plt.scatter(test.X1[test.Y== 0], test.X2[test.Y== 0],c='darkgreen',marker='^')\n",
    "plt.scatter(test.X1[test.Y== 1], test.X2[test.Y== 1],c='black',marker=',')"
   ]
  },
  {
   "cell_type": "code",
   "execution_count": 19,
   "metadata": {},
   "outputs": [
    {
     "data": {
      "text/plain": [
       "<matplotlib.collections.PathCollection at 0x1b3c970a730>"
      ]
     },
     "execution_count": 19,
     "metadata": {},
     "output_type": "execute_result"
    },
    {
     "data": {
      "image/png": "[encoded data removed]",
      "text/plain": [
       "<Figure size 432x288 with 1 Axes>"
      ]
     },
     "metadata": {
      "needs_background": "light"
     },
     "output_type": "display_data"
    }
   ],
   "source": [
    "x_min, x_max = train.X1.min() - .1, train.X1.max() + .1\n",
    "y_min, y_max = train.X2.min() - .1, train.X2.max() + .1\n",
    "h = .02\n",
    "\n",
    "xx,yy = np.meshgrid(np.arange(x_min,x_max,h), np.arange(y_min,y_max,h))\n",
    "Z = SVM.predict(np.c_[xx.ravel(),yy.ravel()])\n",
    "Z = Z.reshape(xx.shape)\n",
    "\n",
    "plt.figure()\n",
    "plt.pcolormesh(xx,yy,Z,cmap = plt.cm.Accent,shading='auto')\n",
    "\n",
    "plt.scatter(test.X1[train.Y== 0], test.X2[train.Y== 0],c='darkgreen',marker='^')\n",
    "plt.scatter(test.X1[train.Y== 1], test.X2[train.Y== 1],c='black',marker=',')"
   ]
  },
  {
   "cell_type": "code",
   "execution_count": 21,
   "metadata": {},
   "outputs": [
    {
     "name": "stdout",
     "output_type": "stream",
     "text": [
      "[1 1 0 0 0 0 0 1 0 1 1 0 0 1 1]\n",
      "La precision es:80.0%\n"
     ]
    }
   ],
   "source": [
    "X_test = test.loc[:,test.columns  !='Y']\n",
    "Y_test = test.Y\n",
    "pred = SVM.predict(X_test)\n",
    "print(pred)\n",
    "accuracy = accuracy_score(\n",
    "            y_true = Y_test,\n",
    "            y_pred = pred,\n",
    "            normalize=True\n",
    "            )\n",
    "print(\"La precision es:\"+ str((100*accuracy))+\"%\")"
   ]
  },
  {
   "cell_type": "code",
   "execution_count": null,
   "metadata": {},
   "outputs": [],
   "source": []
  }
 ],
 "metadata": {
  "kernelspec": {
   "display_name": "Python 3",
   "language": "python",
   "name": "python3"
  },
  "language_info": {
   "codemirror_mode": {
    "name": "ipython",
    "version": 3
   },
   "file_extension": ".py",
   "mimetype": "text/x-python",
   "name": "python",
   "nbconvert_exporter": "python",
   "pygments_lexer": "ipython3",
   "version": "3.8.5"
  }
 },
 "nbformat": 4,
 "nbformat_minor": 4
}
