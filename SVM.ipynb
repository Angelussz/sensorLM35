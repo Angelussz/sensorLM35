{
 "cells": [
  {
   "cell_type": "code",
   "execution_count": 16,
   "metadata": {},
   "outputs": [
    {
     "data": {
      "text/html": [
       "<div>\n",
       "<style scoped>\n",
       "    .dataframe tbody tr th:only-of-type {\n",
       "        vertical-align: middle;\n",
       "    }\n",
       "\n",
       "    .dataframe tbody tr th {\n",
       "        vertical-align: top;\n",
       "    }\n",
       "\n",
       "    .dataframe thead th {\n",
       "        text-align: right;\n",
       "    }\n",
       "</style>\n",
       "<table border=\"1\" class=\"dataframe\">\n",
       "  <thead>\n",
       "    <tr style=\"text-align: right;\">\n",
       "      <th></th>\n",
       "      <th>X1</th>\n",
       "      <th>X2</th>\n",
       "      <th>Y</th>\n",
       "    </tr>\n",
       "  </thead>\n",
       "  <tbody>\n",
       "    <tr>\n",
       "      <th>0</th>\n",
       "      <td>3.45</td>\n",
       "      <td>4.22</td>\n",
       "      <td>1</td>\n",
       "    </tr>\n",
       "    <tr>\n",
       "      <th>1</th>\n",
       "      <td>-2.12</td>\n",
       "      <td>-1.24</td>\n",
       "      <td>0</td>\n",
       "    </tr>\n",
       "    <tr>\n",
       "      <th>2</th>\n",
       "      <td>-4.11</td>\n",
       "      <td>-3.13</td>\n",
       "      <td>0</td>\n",
       "    </tr>\n",
       "    <tr>\n",
       "      <th>3</th>\n",
       "      <td>0.05</td>\n",
       "      <td>-1.00</td>\n",
       "      <td>0</td>\n",
       "    </tr>\n",
       "    <tr>\n",
       "      <th>4</th>\n",
       "      <td>1.26</td>\n",
       "      <td>2.30</td>\n",
       "      <td>1</td>\n",
       "    </tr>\n",
       "    <tr>\n",
       "      <th>5</th>\n",
       "      <td>3.15</td>\n",
       "      <td>3.43</td>\n",
       "      <td>1</td>\n",
       "    </tr>\n",
       "    <tr>\n",
       "      <th>6</th>\n",
       "      <td>3.74</td>\n",
       "      <td>2.74</td>\n",
       "      <td>1</td>\n",
       "    </tr>\n",
       "    <tr>\n",
       "      <th>7</th>\n",
       "      <td>1.45</td>\n",
       "      <td>1.14</td>\n",
       "      <td>1</td>\n",
       "    </tr>\n",
       "    <tr>\n",
       "      <th>8</th>\n",
       "      <td>3.21</td>\n",
       "      <td>3.87</td>\n",
       "      <td>1</td>\n",
       "    </tr>\n",
       "    <tr>\n",
       "      <th>9</th>\n",
       "      <td>-2.53</td>\n",
       "      <td>-1.97</td>\n",
       "      <td>0</td>\n",
       "    </tr>\n",
       "    <tr>\n",
       "      <th>10</th>\n",
       "      <td>-1.43</td>\n",
       "      <td>0.32</td>\n",
       "      <td>0</td>\n",
       "    </tr>\n",
       "    <tr>\n",
       "      <th>11</th>\n",
       "      <td>-3.33</td>\n",
       "      <td>-2.55</td>\n",
       "      <td>0</td>\n",
       "    </tr>\n",
       "    <tr>\n",
       "      <th>12</th>\n",
       "      <td>1.42</td>\n",
       "      <td>2.20</td>\n",
       "      <td>1</td>\n",
       "    </tr>\n",
       "    <tr>\n",
       "      <th>13</th>\n",
       "      <td>2.29</td>\n",
       "      <td>1.66</td>\n",
       "      <td>1</td>\n",
       "    </tr>\n",
       "    <tr>\n",
       "      <th>14</th>\n",
       "      <td>2.17</td>\n",
       "      <td>1.77</td>\n",
       "      <td>1</td>\n",
       "    </tr>\n",
       "    <tr>\n",
       "      <th>15</th>\n",
       "      <td>1.43</td>\n",
       "      <td>1.14</td>\n",
       "      <td>1</td>\n",
       "    </tr>\n",
       "    <tr>\n",
       "      <th>16</th>\n",
       "      <td>-4.34</td>\n",
       "      <td>-4.55</td>\n",
       "      <td>0</td>\n",
       "    </tr>\n",
       "    <tr>\n",
       "      <th>17</th>\n",
       "      <td>-2.67</td>\n",
       "      <td>-3.43</td>\n",
       "      <td>0</td>\n",
       "    </tr>\n",
       "    <tr>\n",
       "      <th>18</th>\n",
       "      <td>-0.78</td>\n",
       "      <td>-1.81</td>\n",
       "      <td>0</td>\n",
       "    </tr>\n",
       "    <tr>\n",
       "      <th>19</th>\n",
       "      <td>-0.32</td>\n",
       "      <td>1.21</td>\n",
       "      <td>0</td>\n",
       "    </tr>\n",
       "  </tbody>\n",
       "</table>\n",
       "</div>"
      ],
      "text/plain": [
       "      X1    X2  Y\n",
       "0   3.45  4.22  1\n",
       "1  -2.12 -1.24  0\n",
       "2  -4.11 -3.13  0\n",
       "3   0.05 -1.00  0\n",
       "4   1.26  2.30  1\n",
       "5   3.15  3.43  1\n",
       "6   3.74  2.74  1\n",
       "7   1.45  1.14  1\n",
       "8   3.21  3.87  1\n",
       "9  -2.53 -1.97  0\n",
       "10 -1.43  0.32  0\n",
       "11 -3.33 -2.55  0\n",
       "12  1.42  2.20  1\n",
       "13  2.29  1.66  1\n",
       "14  2.17  1.77  1\n",
       "15  1.43  1.14  1\n",
       "16 -4.34 -4.55  0\n",
       "17 -2.67 -3.43  0\n",
       "18 -0.78 -1.81  0\n",
       "19 -0.32  1.21  0"
      ]
     },
     "execution_count": 16,
     "metadata": {},
     "output_type": "execute_result"
    }
   ],
   "source": [
    "import pandas as pd\n",
    "import numpy as np\n",
    "import matplotlib.pyplot as plt\n",
    "import math\n",
    "from sklearn.svm import SVC\n",
    "from sklearn.metrics import accuracy_score\n",
    "import seaborn as sns\n",
    "train = pd.read_csv('datos.csv',header=0)\n",
    "train.head(20)"
   ]
  },
  {
   "cell_type": "code",
   "execution_count": 34,
   "metadata": {},
   "outputs": [
    {
     "data": {
      "text/plain": [
       "<matplotlib.collections.PathCollection at 0x2b4b7e1bfa0>"
      ]
     },
     "execution_count": 34,
     "metadata": {},
     "output_type": "execute_result"
    },
    {
     "data": {
      "image/png": "[encoded data removed]",
      "text/plain": [
       "<Figure size 432x288 with 1 Axes>"
      ]
     },
     "metadata": {
      "needs_background": "light"
     },
     "output_type": "display_data"
    }
   ],
   "source": [
    "plt.scatter(train.X1[train.Y== 0], train.X2[train.Y== 0],c='darkgreen',marker='^')\n",
    "plt.scatter(train.X1[train.Y== 1], train.X2[train.Y== 1],c='black',marker=',')"
   ]
  },
  {
   "cell_type": "code",
   "execution_count": 29,
   "metadata": {},
   "outputs": [
    {
     "name": "stdout",
     "output_type": "stream",
     "text": [
      "[[1.0569469  0.24311883]]\n",
      "[-0.80972847]\n",
      "[ 3.86269978 -3.35192324 -5.91474215 -0.99999996  1.08119792  3.35355183\n",
      "  3.80939851  0.99999999  3.52394093 -3.96274822 -2.24336451 -4.94931465\n",
      "  1.22599754  2.01425718  1.91416662  0.97886105 -6.50306868 -4.46567427\n",
      " -2.07419213 -0.8537777 ]\n"
     ]
    }
   ],
   "source": [
    "SVM = SVC(kernel = 'linear',C=0.5)\n",
    "X_train = train.loc[:,train.columns !='Y']\n",
    "Y_train = train.Y\n",
    "SVM.fit(X_train,Y_train)\n",
    "print(SVM.coef_)\n",
    "print(SVM.intercept_)\n",
    "print(SVM.decision_function(X_train))"
   ]
  },
  {
   "cell_type": "code",
   "execution_count": 30,
   "metadata": {},
   "outputs": [
    {
     "data": {
      "text/plain": [
       "<matplotlib.collections.PathCollection at 0x2b4b7969fa0>"
      ]
     },
     "execution_count": 30,
     "metadata": {},
     "output_type": "execute_result"
    },
    {
     "data": {
      "image/png": "[encoded data removed]",
      "text/plain": [
       "<Figure size 432x288 with 1 Axes>"
      ]
     },
     "metadata": {
      "needs_background": "light"
     },
     "output_type": "display_data"
    }
   ],
   "source": [
    "x_min, x_max = train.X1.min() - .1, train.X1.max() + .1\n",
    "y_min, y_max = train.X2.min() - .1, train.X2.max() + .1\n",
    "h = .02\n",
    "\n",
    "xx,yy = np.meshgrid(np.arange(x_min,x_max,h), np.arange(y_min,y_max,h))\n",
    "Z = SVM.predict(np.c_[xx.ravel(),yy.ravel()])\n",
    "Z = Z.reshape(xx.shape)\n",
    "\n",
    "plt.figure()\n",
    "plt.pcolormesh(xx,yy,Z,cmap = plt.cm.Accent,shading='auto')\n",
    "\n",
    "plt.scatter(train.X1[train.Y== 0], train.X2[train.Y== 0],c='darkgreen',marker='^')\n",
    "plt.scatter(train.X1[train.Y== 1], train.X2[train.Y== 1],c='black',marker=',')"
   ]
  },
  {
   "cell_type": "code",
   "execution_count": null,
   "metadata": {},
   "outputs": [],
   "source": []
  }
 ],
 "metadata": {
  "kernelspec": {
   "display_name": "Python 3",
   "language": "python",
   "name": "python3"
  },
  "language_info": {
   "codemirror_mode": {
    "name": "ipython",
    "version": 3
   },
   "file_extension": ".py",
   "mimetype": "text/x-python",
   "name": "python",
   "nbconvert_exporter": "python",
   "pygments_lexer": "ipython3",
   "version": "3.8.5"
  }
 },
 "nbformat": 4,
 "nbformat_minor": 4
}
